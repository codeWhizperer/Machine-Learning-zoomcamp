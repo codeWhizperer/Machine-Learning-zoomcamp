{
 "cells": [
  {
   "cell_type": "code",
   "execution_count": 213,
   "metadata": {},
   "outputs": [],
   "source": [
    "import pandas as pd\n",
    "import numpy as np\n",
    "import matplotlib.pyplot as plt\n",
    "import emoji \n",
    "import seaborn as sns\n"
   ]
  },
  {
   "cell_type": "code",
   "execution_count": 214,
   "metadata": {},
   "outputs": [],
   "source": [
    "# import data\n",
    "\n",
    "df = pd.read_csv('data/dune_data.csv')\n"
   ]
  },
  {
   "cell_type": "code",
   "execution_count": 215,
   "metadata": {},
   "outputs": [
    {
     "data": {
      "text/html": [
       "<div>\n",
       "<style scoped>\n",
       "    .dataframe tbody tr th:only-of-type {\n",
       "        vertical-align: middle;\n",
       "    }\n",
       "\n",
       "    .dataframe tbody tr th {\n",
       "        vertical-align: top;\n",
       "    }\n",
       "\n",
       "    .dataframe thead th {\n",
       "        text-align: right;\n",
       "    }\n",
       "</style>\n",
       "<table border=\"1\" class=\"dataframe\">\n",
       "  <thead>\n",
       "    <tr style=\"text-align: right;\">\n",
       "      <th></th>\n",
       "      <th>active_weeks</th>\n",
       "      <th>target_variable</th>\n",
       "      <th>total_volume</th>\n",
       "      <th>trader_activity_status</th>\n",
       "      <th>trader_volume_status</th>\n",
       "      <th>trader_weekly_frequency_status</th>\n",
       "      <th>tx_count_365d</th>\n",
       "      <th>wallet</th>\n",
       "    </tr>\n",
       "  </thead>\n",
       "  <tbody>\n",
       "    <tr>\n",
       "      <th>0</th>\n",
       "      <td>1</td>\n",
       "      <td>Bad Trader</td>\n",
       "      <td>38.726119</td>\n",
       "      <td>Regular User</td>\n",
       "      <td>Low Value Trader</td>\n",
       "      <td>Unserious</td>\n",
       "      <td>2</td>\n",
       "      <td>0xa3c6acd45396110466fd8972875b3e6d33a0b0b8</td>\n",
       "    </tr>\n",
       "    <tr>\n",
       "      <th>1</th>\n",
       "      <td>1</td>\n",
       "      <td>Bad Trader</td>\n",
       "      <td>135.943754</td>\n",
       "      <td>Occasional User</td>\n",
       "      <td>Middle Value Trader</td>\n",
       "      <td>Unserious</td>\n",
       "      <td>1</td>\n",
       "      <td>0xbc0452c93e33b886d0e6750a9fc261e1d3c877ed</td>\n",
       "    </tr>\n",
       "    <tr>\n",
       "      <th>2</th>\n",
       "      <td>1</td>\n",
       "      <td>Bad Trader</td>\n",
       "      <td>0.457897</td>\n",
       "      <td>Occasional User</td>\n",
       "      <td>Low Value Trader</td>\n",
       "      <td>Unserious</td>\n",
       "      <td>1</td>\n",
       "      <td>0x477b0f0e29494a1e108a302ffecff3d76663386c</td>\n",
       "    </tr>\n",
       "    <tr>\n",
       "      <th>3</th>\n",
       "      <td>5</td>\n",
       "      <td>Bad Trader</td>\n",
       "      <td>37.614307</td>\n",
       "      <td>Regular User</td>\n",
       "      <td>Low Value Trader</td>\n",
       "      <td>OG</td>\n",
       "      <td>8</td>\n",
       "      <td>0x02170d140c843646d4802f6e65f9236baccc2f70</td>\n",
       "    </tr>\n",
       "    <tr>\n",
       "      <th>4</th>\n",
       "      <td>1</td>\n",
       "      <td>Bad Trader</td>\n",
       "      <td>2.389608</td>\n",
       "      <td>Occasional User</td>\n",
       "      <td>Low Value Trader</td>\n",
       "      <td>Unserious</td>\n",
       "      <td>1</td>\n",
       "      <td>0xcb69aceac5956af777d4d77c8d01c1fdea5828bd</td>\n",
       "    </tr>\n",
       "    <tr>\n",
       "      <th>...</th>\n",
       "      <td>...</td>\n",
       "      <td>...</td>\n",
       "      <td>...</td>\n",
       "      <td>...</td>\n",
       "      <td>...</td>\n",
       "      <td>...</td>\n",
       "      <td>...</td>\n",
       "      <td>...</td>\n",
       "    </tr>\n",
       "    <tr>\n",
       "      <th>1995</th>\n",
       "      <td>1</td>\n",
       "      <td>Bad Trader</td>\n",
       "      <td>30.584974</td>\n",
       "      <td>Occasional User</td>\n",
       "      <td>Low Value Trader</td>\n",
       "      <td>Unserious</td>\n",
       "      <td>1</td>\n",
       "      <td>0x05a3f364d84287eb3b18757643f47cd507b58438</td>\n",
       "    </tr>\n",
       "    <tr>\n",
       "      <th>1996</th>\n",
       "      <td>1</td>\n",
       "      <td>Bad Trader</td>\n",
       "      <td>0.109873</td>\n",
       "      <td>Occasional User</td>\n",
       "      <td>Low Value Trader</td>\n",
       "      <td>Unserious</td>\n",
       "      <td>1</td>\n",
       "      <td>0x8eb4cddb7e78fb0d5ebb75670122d2271de652a4</td>\n",
       "    </tr>\n",
       "    <tr>\n",
       "      <th>1997</th>\n",
       "      <td>1</td>\n",
       "      <td>Bad Trader</td>\n",
       "      <td>0.827270</td>\n",
       "      <td>Regular User</td>\n",
       "      <td>Low Value Trader</td>\n",
       "      <td>Unserious</td>\n",
       "      <td>2</td>\n",
       "      <td>0x9ef6be20528016d65e16900cb0392eb259a743ac</td>\n",
       "    </tr>\n",
       "    <tr>\n",
       "      <th>1998</th>\n",
       "      <td>1</td>\n",
       "      <td>Bad Trader</td>\n",
       "      <td>200.986683</td>\n",
       "      <td>Regular User</td>\n",
       "      <td>Middle Value Trader</td>\n",
       "      <td>Unserious</td>\n",
       "      <td>2</td>\n",
       "      <td>0xabaef3332e1440b3585a7ceebd6b674fbd0253f9</td>\n",
       "    </tr>\n",
       "    <tr>\n",
       "      <th>1999</th>\n",
       "      <td>1</td>\n",
       "      <td>Bad Trader</td>\n",
       "      <td>4.441506</td>\n",
       "      <td>Regular User</td>\n",
       "      <td>Low Value Trader</td>\n",
       "      <td>Unserious</td>\n",
       "      <td>3</td>\n",
       "      <td>0x3f490686ae0a68fd720b293b2d225bff8fd7761e</td>\n",
       "    </tr>\n",
       "  </tbody>\n",
       "</table>\n",
       "<p>2000 rows × 8 columns</p>\n",
       "</div>"
      ],
      "text/plain": [
       "      active_weeks target_variable  total_volume trader_activity_status  \\\n",
       "0                1      Bad Trader     38.726119           Regular User   \n",
       "1                1      Bad Trader    135.943754        Occasional User   \n",
       "2                1      Bad Trader      0.457897        Occasional User   \n",
       "3                5      Bad Trader     37.614307           Regular User   \n",
       "4                1      Bad Trader      2.389608        Occasional User   \n",
       "...            ...             ...           ...                    ...   \n",
       "1995             1      Bad Trader     30.584974        Occasional User   \n",
       "1996             1      Bad Trader      0.109873        Occasional User   \n",
       "1997             1      Bad Trader      0.827270           Regular User   \n",
       "1998             1      Bad Trader    200.986683           Regular User   \n",
       "1999             1      Bad Trader      4.441506           Regular User   \n",
       "\n",
       "     trader_volume_status trader_weekly_frequency_status  tx_count_365d  \\\n",
       "0        Low Value Trader                      Unserious              2   \n",
       "1     Middle Value Trader                      Unserious              1   \n",
       "2        Low Value Trader                      Unserious              1   \n",
       "3        Low Value Trader                             OG              8   \n",
       "4        Low Value Trader                      Unserious              1   \n",
       "...                   ...                            ...            ...   \n",
       "1995     Low Value Trader                      Unserious              1   \n",
       "1996     Low Value Trader                      Unserious              1   \n",
       "1997     Low Value Trader                      Unserious              2   \n",
       "1998  Middle Value Trader                      Unserious              2   \n",
       "1999     Low Value Trader                      Unserious              3   \n",
       "\n",
       "                                          wallet  \n",
       "0     0xa3c6acd45396110466fd8972875b3e6d33a0b0b8  \n",
       "1     0xbc0452c93e33b886d0e6750a9fc261e1d3c877ed  \n",
       "2     0x477b0f0e29494a1e108a302ffecff3d76663386c  \n",
       "3     0x02170d140c843646d4802f6e65f9236baccc2f70  \n",
       "4     0xcb69aceac5956af777d4d77c8d01c1fdea5828bd  \n",
       "...                                          ...  \n",
       "1995  0x05a3f364d84287eb3b18757643f47cd507b58438  \n",
       "1996  0x8eb4cddb7e78fb0d5ebb75670122d2271de652a4  \n",
       "1997  0x9ef6be20528016d65e16900cb0392eb259a743ac  \n",
       "1998  0xabaef3332e1440b3585a7ceebd6b674fbd0253f9  \n",
       "1999  0x3f490686ae0a68fd720b293b2d225bff8fd7761e  \n",
       "\n",
       "[2000 rows x 8 columns]"
      ]
     },
     "execution_count": 215,
     "metadata": {},
     "output_type": "execute_result"
    }
   ],
   "source": [
    "# Clean data\n",
    "\n",
    "\n",
    "# Columns to clean\n",
    "cols_to_clean = [\n",
    "    'target_variable', \n",
    "    'trader_activity_status', \n",
    "    'trader_volume_status', \n",
    "    'trader_weekly_frequency_status'\n",
    "]\n",
    "\n",
    "# Remove emojis from multiple columns\n",
    "for col in cols_to_clean:\n",
    "        df[col] = df[col].map(lambda x: emoji.replace_emoji(x, replace='').strip())\n",
    "# Standardize text to lowercase and strip whitespace\n",
    "\n",
    "df\n",
    "\n"
   ]
  },
  {
   "cell_type": "code",
   "execution_count": 216,
   "metadata": {},
   "outputs": [
    {
     "data": {
      "text/html": [
       "<div>\n",
       "<style scoped>\n",
       "    .dataframe tbody tr th:only-of-type {\n",
       "        vertical-align: middle;\n",
       "    }\n",
       "\n",
       "    .dataframe tbody tr th {\n",
       "        vertical-align: top;\n",
       "    }\n",
       "\n",
       "    .dataframe thead th {\n",
       "        text-align: right;\n",
       "    }\n",
       "</style>\n",
       "<table border=\"1\" class=\"dataframe\">\n",
       "  <thead>\n",
       "    <tr style=\"text-align: right;\">\n",
       "      <th></th>\n",
       "      <th>active_weeks</th>\n",
       "      <th>target_variable</th>\n",
       "      <th>total_volume</th>\n",
       "      <th>trader_activity_status</th>\n",
       "      <th>trader_volume_status</th>\n",
       "      <th>trader_weekly_frequency_status</th>\n",
       "      <th>tx_count_365d</th>\n",
       "      <th>wallet</th>\n",
       "    </tr>\n",
       "  </thead>\n",
       "  <tbody>\n",
       "    <tr>\n",
       "      <th>0</th>\n",
       "      <td>1</td>\n",
       "      <td>0</td>\n",
       "      <td>38.726119</td>\n",
       "      <td>Regular User</td>\n",
       "      <td>Low Value Trader</td>\n",
       "      <td>Unserious</td>\n",
       "      <td>2</td>\n",
       "      <td>0xa3c6acd45396110466fd8972875b3e6d33a0b0b8</td>\n",
       "    </tr>\n",
       "    <tr>\n",
       "      <th>1</th>\n",
       "      <td>1</td>\n",
       "      <td>0</td>\n",
       "      <td>135.943754</td>\n",
       "      <td>Occasional User</td>\n",
       "      <td>Middle Value Trader</td>\n",
       "      <td>Unserious</td>\n",
       "      <td>1</td>\n",
       "      <td>0xbc0452c93e33b886d0e6750a9fc261e1d3c877ed</td>\n",
       "    </tr>\n",
       "    <tr>\n",
       "      <th>2</th>\n",
       "      <td>1</td>\n",
       "      <td>0</td>\n",
       "      <td>0.457897</td>\n",
       "      <td>Occasional User</td>\n",
       "      <td>Low Value Trader</td>\n",
       "      <td>Unserious</td>\n",
       "      <td>1</td>\n",
       "      <td>0x477b0f0e29494a1e108a302ffecff3d76663386c</td>\n",
       "    </tr>\n",
       "    <tr>\n",
       "      <th>3</th>\n",
       "      <td>5</td>\n",
       "      <td>0</td>\n",
       "      <td>37.614307</td>\n",
       "      <td>Regular User</td>\n",
       "      <td>Low Value Trader</td>\n",
       "      <td>OG</td>\n",
       "      <td>8</td>\n",
       "      <td>0x02170d140c843646d4802f6e65f9236baccc2f70</td>\n",
       "    </tr>\n",
       "    <tr>\n",
       "      <th>4</th>\n",
       "      <td>1</td>\n",
       "      <td>0</td>\n",
       "      <td>2.389608</td>\n",
       "      <td>Occasional User</td>\n",
       "      <td>Low Value Trader</td>\n",
       "      <td>Unserious</td>\n",
       "      <td>1</td>\n",
       "      <td>0xcb69aceac5956af777d4d77c8d01c1fdea5828bd</td>\n",
       "    </tr>\n",
       "    <tr>\n",
       "      <th>...</th>\n",
       "      <td>...</td>\n",
       "      <td>...</td>\n",
       "      <td>...</td>\n",
       "      <td>...</td>\n",
       "      <td>...</td>\n",
       "      <td>...</td>\n",
       "      <td>...</td>\n",
       "      <td>...</td>\n",
       "    </tr>\n",
       "    <tr>\n",
       "      <th>995</th>\n",
       "      <td>3</td>\n",
       "      <td>1</td>\n",
       "      <td>781.653697</td>\n",
       "      <td>Frequent User</td>\n",
       "      <td>Middle Value Trader</td>\n",
       "      <td>OG</td>\n",
       "      <td>12</td>\n",
       "      <td>0x61f5cddec29922fd477ab43149b54901f2de6eb7</td>\n",
       "    </tr>\n",
       "    <tr>\n",
       "      <th>996</th>\n",
       "      <td>11</td>\n",
       "      <td>1</td>\n",
       "      <td>195.534506</td>\n",
       "      <td>Frequent User</td>\n",
       "      <td>Middle Value Trader</td>\n",
       "      <td>OG</td>\n",
       "      <td>26</td>\n",
       "      <td>0x4eefae5658a98512f21934544feee7d0584a812b</td>\n",
       "    </tr>\n",
       "    <tr>\n",
       "      <th>997</th>\n",
       "      <td>2</td>\n",
       "      <td>1</td>\n",
       "      <td>1819.545440</td>\n",
       "      <td>Regular User</td>\n",
       "      <td>Middle Value Trader</td>\n",
       "      <td>Just there</td>\n",
       "      <td>5</td>\n",
       "      <td>0xf6689099d9604f0bc82bada16b262b1da7f4af6b</td>\n",
       "    </tr>\n",
       "    <tr>\n",
       "      <th>998</th>\n",
       "      <td>4</td>\n",
       "      <td>1</td>\n",
       "      <td>497.128904</td>\n",
       "      <td>Regular User</td>\n",
       "      <td>Middle Value Trader</td>\n",
       "      <td>OG</td>\n",
       "      <td>5</td>\n",
       "      <td>0xf843949eaa6d450327599963bd61fab42e3ac7f4</td>\n",
       "    </tr>\n",
       "    <tr>\n",
       "      <th>999</th>\n",
       "      <td>5</td>\n",
       "      <td>1</td>\n",
       "      <td>88.404500</td>\n",
       "      <td>Frequent User</td>\n",
       "      <td>Middle Value Trader</td>\n",
       "      <td>OG</td>\n",
       "      <td>16</td>\n",
       "      <td>0xe79b3e2d211cbd46431e4443f8601383905e2fff</td>\n",
       "    </tr>\n",
       "  </tbody>\n",
       "</table>\n",
       "<p>1000 rows × 8 columns</p>\n",
       "</div>"
      ],
      "text/plain": [
       "     active_weeks  target_variable  total_volume trader_activity_status  \\\n",
       "0               1                0     38.726119           Regular User   \n",
       "1               1                0    135.943754        Occasional User   \n",
       "2               1                0      0.457897        Occasional User   \n",
       "3               5                0     37.614307           Regular User   \n",
       "4               1                0      2.389608        Occasional User   \n",
       "..            ...              ...           ...                    ...   \n",
       "995             3                1    781.653697          Frequent User   \n",
       "996            11                1    195.534506          Frequent User   \n",
       "997             2                1   1819.545440           Regular User   \n",
       "998             4                1    497.128904           Regular User   \n",
       "999             5                1     88.404500          Frequent User   \n",
       "\n",
       "    trader_volume_status trader_weekly_frequency_status  tx_count_365d  \\\n",
       "0       Low Value Trader                      Unserious              2   \n",
       "1    Middle Value Trader                      Unserious              1   \n",
       "2       Low Value Trader                      Unserious              1   \n",
       "3       Low Value Trader                             OG              8   \n",
       "4       Low Value Trader                      Unserious              1   \n",
       "..                   ...                            ...            ...   \n",
       "995  Middle Value Trader                             OG             12   \n",
       "996  Middle Value Trader                             OG             26   \n",
       "997  Middle Value Trader                     Just there              5   \n",
       "998  Middle Value Trader                             OG              5   \n",
       "999  Middle Value Trader                             OG             16   \n",
       "\n",
       "                                         wallet  \n",
       "0    0xa3c6acd45396110466fd8972875b3e6d33a0b0b8  \n",
       "1    0xbc0452c93e33b886d0e6750a9fc261e1d3c877ed  \n",
       "2    0x477b0f0e29494a1e108a302ffecff3d76663386c  \n",
       "3    0x02170d140c843646d4802f6e65f9236baccc2f70  \n",
       "4    0xcb69aceac5956af777d4d77c8d01c1fdea5828bd  \n",
       "..                                          ...  \n",
       "995  0x61f5cddec29922fd477ab43149b54901f2de6eb7  \n",
       "996  0x4eefae5658a98512f21934544feee7d0584a812b  \n",
       "997  0xf6689099d9604f0bc82bada16b262b1da7f4af6b  \n",
       "998  0xf843949eaa6d450327599963bd61fab42e3ac7f4  \n",
       "999  0xe79b3e2d211cbd46431e4443f8601383905e2fff  \n",
       "\n",
       "[1000 rows x 8 columns]"
      ]
     },
     "execution_count": 216,
     "metadata": {},
     "output_type": "execute_result"
    }
   ],
   "source": [
    "# replace target variable values with  binary values\n",
    "\n",
    "# df['target_variable'] = df['target_variable'].replace({'Good Trader': 1, 'Bad Trader': 0})\n",
    "df.target_variable  = (df.target_variable == 'Good Trader').astype(int) \n",
    "\n",
    "df.head(1000)"
   ]
  },
  {
   "cell_type": "code",
   "execution_count": 217,
   "metadata": {},
   "outputs": [],
   "source": [
    "# Visualize data\n",
    "\n"
   ]
  },
  {
   "cell_type": "code",
   "execution_count": 218,
   "metadata": {},
   "outputs": [
    {
     "data": {
      "image/png": "[encoded data removed]",
      "text/plain": [
       "<Figure size 640x480 with 1 Axes>"
      ]
     },
     "metadata": {},
     "output_type": "display_data"
    }
   ],
   "source": [
    "df['target_variable'].value_counts().plot(kind='pie', autopct='%1.1f%%')\n",
    "plt.title('Trader Distribution')\n",
    "plt.ylabel('')\n",
    "plt.show()"
   ]
  },
  {
   "cell_type": "code",
   "execution_count": 219,
   "metadata": {},
   "outputs": [],
   "source": [
    "# SETTING UP THE VALIDATION FRAMEWORK\n",
    "\n",
    "from sklearn.model_selection import train_test_split\n",
    "\n"
   ]
  },
  {
   "cell_type": "code",
   "execution_count": 220,
   "metadata": {},
   "outputs": [
    {
     "data": {
      "text/plain": [
       "(1600, 400)"
      ]
     },
     "execution_count": 220,
     "metadata": {},
     "output_type": "execute_result"
    }
   ],
   "source": [
    "df_full_train, df_test =  train_test_split(df, test_size=0.2, random_state=1)\n",
    "\n",
    "len(df_full_train), len(df_test)"
   ]
  },
  {
   "cell_type": "code",
   "execution_count": 221,
   "metadata": {},
   "outputs": [
    {
     "data": {
      "text/plain": [
       "(1200, 400, 400)"
      ]
     },
     "execution_count": 221,
     "metadata": {},
     "output_type": "execute_result"
    }
   ],
   "source": [
    "# get validation dataset\n",
    "df_train, df_val = train_test_split(df_full_train, test_size=0.25, random_state=1)\n",
    "len(df_train), len(df_val), len(df_test)"
   ]
  },
  {
   "cell_type": "code",
   "execution_count": 222,
   "metadata": {},
   "outputs": [],
   "source": [
    "# make indices not to be shuffles\n",
    "df_train = df_train.reset_index(drop=True)\n",
    "df_val = df_val.reset_index(drop=True)\n",
    "df_test = df_test.reset_index(drop=True)"
   ]
  },
  {
   "cell_type": "code",
   "execution_count": 223,
   "metadata": {},
   "outputs": [],
   "source": [
    "# get target variable\n",
    "y_train = df_train.target_variable.values\n",
    "y_val = df_val.target_variable.values\n",
    "y_test = df_test.target_variable.values"
   ]
  },
  {
   "cell_type": "code",
   "execution_count": 224,
   "metadata": {},
   "outputs": [],
   "source": [
    "# delete target variable from dataframes\n",
    "\n",
    "del df_train['target_variable']\n",
    "del df_val['target_variable']\n",
    "del df_test['target_variable']"
   ]
  },
  {
   "cell_type": "code",
   "execution_count": 225,
   "metadata": {},
   "outputs": [],
   "source": [
    "# EDA\n",
    "\n",
    "df_full_train = df_full_train.reset_index(drop=True)\n"
   ]
  },
  {
   "cell_type": "code",
   "execution_count": 226,
   "metadata": {},
   "outputs": [
    {
     "data": {
      "text/plain": [
       "active_weeks                      0\n",
       "target_variable                   0\n",
       "total_volume                      0\n",
       "trader_activity_status            0\n",
       "trader_volume_status              0\n",
       "trader_weekly_frequency_status    0\n",
       "tx_count_365d                     0\n",
       "wallet                            0\n",
       "dtype: int64"
      ]
     },
     "execution_count": 226,
     "metadata": {},
     "output_type": "execute_result"
    }
   ],
   "source": [
    "# check missing values\n",
    "\n",
    "df_full_train.isnull().sum()"
   ]
  },
  {
   "cell_type": "code",
   "execution_count": 227,
   "metadata": {},
   "outputs": [
    {
     "data": {
      "text/plain": [
       "target_variable\n",
       "0    0.501875\n",
       "1    0.498125\n",
       "Name: proportion, dtype: float64"
      ]
     },
     "execution_count": 227,
     "metadata": {},
     "output_type": "execute_result"
    }
   ],
   "source": [
    "# trader rate\n",
    "\n",
    "df_full_train.target_variable.value_counts(normalize=True)\n"
   ]
  },
  {
   "cell_type": "code",
   "execution_count": 228,
   "metadata": {},
   "outputs": [
    {
     "data": {
      "text/plain": [
       "0.5"
      ]
     },
     "execution_count": 228,
     "metadata": {},
     "output_type": "execute_result"
    }
   ],
   "source": [
    "global_trader_rate = df_full_train.target_variable.mean()\n",
    "round(global_trader_rate, 2)"
   ]
  },
  {
   "cell_type": "code",
   "execution_count": 229,
   "metadata": {},
   "outputs": [
    {
     "data": {
      "text/plain": [
       "active_weeks                        int64\n",
       "target_variable                     int64\n",
       "total_volume                      float64\n",
       "trader_activity_status             object\n",
       "trader_volume_status               object\n",
       "trader_weekly_frequency_status     object\n",
       "tx_count_365d                       int64\n",
       "wallet                             object\n",
       "dtype: object"
      ]
     },
     "execution_count": 229,
     "metadata": {},
     "output_type": "execute_result"
    }
   ],
   "source": [
    "df_full_train.dtypes"
   ]
  },
  {
   "cell_type": "code",
   "execution_count": 230,
   "metadata": {},
   "outputs": [],
   "source": [
    "# numerical and categorical columns\n",
    "# exclude wallet_address column, it's just an identifier, it does not carry any predictive information\n",
    "numerical = ['active_weeks', 'total_volume', 'tx_count_365d']\n",
    "categorical = ['trader_activity_status', 'trader_volume_status', 'trader_weekly_frequency_status']"
   ]
  },
  {
   "cell_type": "code",
   "execution_count": 231,
   "metadata": {},
   "outputs": [
    {
     "data": {
      "text/plain": [
       "trader_activity_status            3\n",
       "trader_volume_status              3\n",
       "trader_weekly_frequency_status    3\n",
       "dtype: int64"
      ]
     },
     "execution_count": 231,
     "metadata": {},
     "output_type": "execute_result"
    }
   ],
   "source": [
    "df_full_train[categorical].nunique()"
   ]
  },
  {
   "cell_type": "code",
   "execution_count": 232,
   "metadata": {},
   "outputs": [
    {
     "data": {
      "text/plain": [
       "active_weeks       51\n",
       "total_volume     1560\n",
       "tx_count_365d     199\n",
       "dtype: int64"
      ]
     },
     "execution_count": 232,
     "metadata": {},
     "output_type": "execute_result"
    }
   ],
   "source": [
    "df_full_train[numerical].nunique()"
   ]
  },
  {
   "cell_type": "code",
   "execution_count": 234,
   "metadata": {},
   "outputs": [],
   "source": [
    "# FEATURE IMPORTANCE: CHURN RATE AND RISK RATIO\n",
    "\n",
    "# TARGET_VARIABLE_RATE\n",
    "# RISK RATIO\n",
    "# MUTUAL INFORMATION\n"
   ]
  },
  {
   "cell_type": "code",
   "execution_count": 235,
   "metadata": {},
   "outputs": [
    {
     "name": "stdout",
     "output_type": "stream",
     "text": [
      "\n",
      "Column: trader_activity_status\n"
     ]
    },
    {
     "data": {
      "text/html": [
       "<div>\n",
       "<style scoped>\n",
       "    .dataframe tbody tr th:only-of-type {\n",
       "        vertical-align: middle;\n",
       "    }\n",
       "\n",
       "    .dataframe tbody tr th {\n",
       "        vertical-align: top;\n",
       "    }\n",
       "\n",
       "    .dataframe thead th {\n",
       "        text-align: right;\n",
       "    }\n",
       "</style>\n",
       "<table border=\"1\" class=\"dataframe\">\n",
       "  <thead>\n",
       "    <tr style=\"text-align: right;\">\n",
       "      <th></th>\n",
       "      <th>mean</th>\n",
       "      <th>count</th>\n",
       "      <th>diff</th>\n",
       "      <th>risk_ratio</th>\n",
       "    </tr>\n",
       "    <tr>\n",
       "      <th>trader_activity_status</th>\n",
       "      <th></th>\n",
       "      <th></th>\n",
       "      <th></th>\n",
       "      <th></th>\n",
       "    </tr>\n",
       "  </thead>\n",
       "  <tbody>\n",
       "    <tr>\n",
       "      <th>Frequent User</th>\n",
       "      <td>0.886677</td>\n",
       "      <td>653</td>\n",
       "      <td>0.388552</td>\n",
       "      <td>1.780029</td>\n",
       "    </tr>\n",
       "    <tr>\n",
       "      <th>Occasional User</th>\n",
       "      <td>0.000000</td>\n",
       "      <td>395</td>\n",
       "      <td>-0.498125</td>\n",
       "      <td>0.000000</td>\n",
       "    </tr>\n",
       "    <tr>\n",
       "      <th>Regular User</th>\n",
       "      <td>0.394928</td>\n",
       "      <td>552</td>\n",
       "      <td>-0.103197</td>\n",
       "      <td>0.792828</td>\n",
       "    </tr>\n",
       "  </tbody>\n",
       "</table>\n",
       "</div>"
      ],
      "text/plain": [
       "                            mean  count      diff  risk_ratio\n",
       "trader_activity_status                                       \n",
       "Frequent User           0.886677    653  0.388552    1.780029\n",
       "Occasional User         0.000000    395 -0.498125    0.000000\n",
       "Regular User            0.394928    552 -0.103197    0.792828"
      ]
     },
     "metadata": {},
     "output_type": "display_data"
    },
    {
     "name": "stdout",
     "output_type": "stream",
     "text": [
      "\n",
      "Column: trader_volume_status\n"
     ]
    },
    {
     "data": {
      "text/html": [
       "<div>\n",
       "<style scoped>\n",
       "    .dataframe tbody tr th:only-of-type {\n",
       "        vertical-align: middle;\n",
       "    }\n",
       "\n",
       "    .dataframe tbody tr th {\n",
       "        vertical-align: top;\n",
       "    }\n",
       "\n",
       "    .dataframe thead th {\n",
       "        text-align: right;\n",
       "    }\n",
       "</style>\n",
       "<table border=\"1\" class=\"dataframe\">\n",
       "  <thead>\n",
       "    <tr style=\"text-align: right;\">\n",
       "      <th></th>\n",
       "      <th>mean</th>\n",
       "      <th>count</th>\n",
       "      <th>diff</th>\n",
       "      <th>risk_ratio</th>\n",
       "    </tr>\n",
       "    <tr>\n",
       "      <th>trader_volume_status</th>\n",
       "      <th></th>\n",
       "      <th></th>\n",
       "      <th></th>\n",
       "      <th></th>\n",
       "    </tr>\n",
       "  </thead>\n",
       "  <tbody>\n",
       "    <tr>\n",
       "      <th>High Value Trader</th>\n",
       "      <td>0.982301</td>\n",
       "      <td>113</td>\n",
       "      <td>0.484176</td>\n",
       "      <td>1.971997</td>\n",
       "    </tr>\n",
       "    <tr>\n",
       "      <th>Low Value Trader</th>\n",
       "      <td>0.000000</td>\n",
       "      <td>564</td>\n",
       "      <td>-0.498125</td>\n",
       "      <td>0.000000</td>\n",
       "    </tr>\n",
       "    <tr>\n",
       "      <th>Middle Value Trader</th>\n",
       "      <td>0.743229</td>\n",
       "      <td>923</td>\n",
       "      <td>0.245104</td>\n",
       "      <td>1.492052</td>\n",
       "    </tr>\n",
       "  </tbody>\n",
       "</table>\n",
       "</div>"
      ],
      "text/plain": [
       "                          mean  count      diff  risk_ratio\n",
       "trader_volume_status                                       \n",
       "High Value Trader     0.982301    113  0.484176    1.971997\n",
       "Low Value Trader      0.000000    564 -0.498125    0.000000\n",
       "Middle Value Trader   0.743229    923  0.245104    1.492052"
      ]
     },
     "metadata": {},
     "output_type": "display_data"
    },
    {
     "name": "stdout",
     "output_type": "stream",
     "text": [
      "\n",
      "Column: trader_weekly_frequency_status\n"
     ]
    },
    {
     "data": {
      "text/html": [
       "<div>\n",
       "<style scoped>\n",
       "    .dataframe tbody tr th:only-of-type {\n",
       "        vertical-align: middle;\n",
       "    }\n",
       "\n",
       "    .dataframe tbody tr th {\n",
       "        vertical-align: top;\n",
       "    }\n",
       "\n",
       "    .dataframe thead th {\n",
       "        text-align: right;\n",
       "    }\n",
       "</style>\n",
       "<table border=\"1\" class=\"dataframe\">\n",
       "  <thead>\n",
       "    <tr style=\"text-align: right;\">\n",
       "      <th></th>\n",
       "      <th>mean</th>\n",
       "      <th>count</th>\n",
       "      <th>diff</th>\n",
       "      <th>risk_ratio</th>\n",
       "    </tr>\n",
       "    <tr>\n",
       "      <th>trader_weekly_frequency_status</th>\n",
       "      <th></th>\n",
       "      <th></th>\n",
       "      <th></th>\n",
       "      <th></th>\n",
       "    </tr>\n",
       "  </thead>\n",
       "  <tbody>\n",
       "    <tr>\n",
       "      <th>Just there</th>\n",
       "      <td>0.402062</td>\n",
       "      <td>194</td>\n",
       "      <td>-0.096063</td>\n",
       "      <td>0.807151</td>\n",
       "    </tr>\n",
       "    <tr>\n",
       "      <th>OG</th>\n",
       "      <td>0.831214</td>\n",
       "      <td>865</td>\n",
       "      <td>0.333089</td>\n",
       "      <td>1.668685</td>\n",
       "    </tr>\n",
       "    <tr>\n",
       "      <th>Unserious</th>\n",
       "      <td>0.000000</td>\n",
       "      <td>541</td>\n",
       "      <td>-0.498125</td>\n",
       "      <td>0.000000</td>\n",
       "    </tr>\n",
       "  </tbody>\n",
       "</table>\n",
       "</div>"
      ],
      "text/plain": [
       "                                    mean  count      diff  risk_ratio\n",
       "trader_weekly_frequency_status                                       \n",
       "Just there                      0.402062    194 -0.096063    0.807151\n",
       "OG                              0.831214    865  0.333089    1.668685\n",
       "Unserious                       0.000000    541 -0.498125    0.000000"
      ]
     },
     "metadata": {},
     "output_type": "display_data"
    }
   ],
   "source": [
    "from IPython.display import display\n",
    "\n",
    "for col in categorical:\n",
    "    df_group = df_full_train.groupby(col).target_variable.agg(['mean', 'count'])\n",
    "    df_group['diff'] = df_group['mean'] - global_trader_rate\n",
    "    df_group['risk_ratio'] = df_group['mean'] / global_trader_rate\n",
    "    print(f'\\nColumn: {col}')\n",
    "    display(df_group)"
   ]
  },
  {
   "cell_type": "code",
   "execution_count": null,
   "metadata": {},
   "outputs": [
    {
     "data": {
      "text/plain": [
       "'\"\"\\nThis section analyzes categorical features against the `target_variable` (Good vs Bad Trader).  \\nEach table shows the **mean**, **count**, **diff**, and **risk_ratio** values per category.\\n\\n---\\n\\n### 🧩 Metric Definitions\\n- **mean:** Proportion of good traders (1s) in each group  \\n- **count:** Number of samples in the group  \\n- **diff:** Difference from the global mean trader rate  \\n- **risk_ratio:** Likelihood ratio relative to the global mean  \\n  - `> 1.0` → better than average  \\n  - `< 1.0` → worse than average  \\n\\n---\\n\\n### 1️⃣ `trader_activity_status`\\n\\n| Group | mean | Interpretation |\\n|--------|------|----------------|\\n| **Frequent User (0.89)** | Very high success rate — strong positive correlation |\\n| **Regular User (0.39)** | Slightly below average performance |\\n| **Occasional User (0.00)** | Very poor performance — strong negative correlation |\\n\\n**💡 Insight:**  \\nTrader activity frequency is highly predictive — frequent users are almost **2× more likely** to be good traders.\\n\\n---\\n\\n### 2️⃣ `trader_volume_status`\\n\\n| Group | mean | Interpretation |\\n|--------|------|----------------|\\n| **High Value Trader (0.98)** | Extremely strong correlation with good performance |\\n| **Middle Value Trader (0.74)** | Above-average success rate |\\n| **Low Value Trader (0.00)** | Consistently poor performance |\\n\\n**💡 Insight:**  \\nTrading **volume** has a direct relationship with success — higher value traders perform much better.\\n\\n---\\n\\n### 3️⃣ `trader_weekly_frequency_status`\\n\\n| Group | mean | Interpretation |\\n|--------|------|----------------|\\n| **OG (0.83)** | Strong positive correlation |\\n| **Just there (0.40)** | Slightly below average |\\n| **Unserious (0.00)** | Very poor performance |\\n\\n**💡 Insight:**  \\nWeekly trading consistency is a strong indicator of performance.  \\nConsistent (“OG”) traders outperform others significantly.\\n\\n---\\n\\n### ✅ Overall Summary\\n\\n- Higher **activity**, **volume**, and **weekly frequency** = higher chance of being a **good trader**  \\n- Low-engagement users tend to perform poorly  \\n- These categorical features are **highly predictive** and should strongly influence model performance\\n\\n'"
      ]
     },
     "execution_count": 237,
     "metadata": {},
     "output_type": "execute_result"
    }
   ],
   "source": [
    "## 📊 Interpretation of Categorical Feature Analysis\n",
    "\n",
    "\"\"\"\"\"\"\"\"\"\"\"\n",
    "This section analyzes categorical features against the `target_variable` (Good vs Bad Trader).  \n",
    "Each table shows the **mean**, **count**, **diff**, and **risk_ratio** values per category.\n",
    "\n",
    "---\n",
    "\n",
    "### 🧩 Metric Definitions\n",
    "- **mean:** Proportion of good traders (1s) in each group  \n",
    "- **count:** Number of samples in the group  \n",
    "- **diff:** Difference from the global mean trader rate  \n",
    "- **risk_ratio:** Likelihood ratio relative to the global mean  \n",
    "  - `> 1.0` → better than average  \n",
    "  - `< 1.0` → worse than average  \n",
    "\n",
    "---\n",
    "\n",
    "### 1️⃣ `trader_activity_status`\n",
    "\n",
    "| Group | mean | Interpretation |\n",
    "|--------|------|----------------|\n",
    "| **Frequent User (0.89)** | Very high success rate — strong positive correlation |\n",
    "| **Regular User (0.39)** | Slightly below average performance |\n",
    "| **Occasional User (0.00)** | Very poor performance — strong negative correlation |\n",
    "\n",
    "**💡 Insight:**  \n",
    "Trader activity frequency is highly predictive — frequent users are almost **2× more likely** to be good traders.\n",
    "\n",
    "---\n",
    "\n",
    "### 2️⃣ `trader_volume_status`\n",
    "\n",
    "| Group | mean | Interpretation |\n",
    "|--------|------|----------------|\n",
    "| **High Value Trader (0.98)** | Extremely strong correlation with good performance |\n",
    "| **Middle Value Trader (0.74)** | Above-average success rate |\n",
    "| **Low Value Trader (0.00)** | Consistently poor performance |\n",
    "\n",
    "**💡 Insight:**  \n",
    "Trading **volume** has a direct relationship with success — higher value traders perform much better.\n",
    "\n",
    "---\n",
    "\n",
    "### 3️⃣ `trader_weekly_frequency_status`\n",
    "\n",
    "| Group | mean | Interpretation |\n",
    "|--------|------|----------------|\n",
    "| **OG (0.83)** | Strong positive correlation |\n",
    "| **Just there (0.40)** | Slightly below average |\n",
    "| **Unserious (0.00)** | Very poor performance |\n",
    "\n",
    "**💡 Insight:**  \n",
    "Weekly trading consistency is a strong indicator of performance.  \n",
    "Consistent (“OG”) traders outperform others significantly.\n",
    "\n",
    "---\n",
    "\n",
    "### ✅ Overall Summary\n",
    "\n",
    "- Higher **activity**, **volume**, and **weekly frequency** = higher chance of being a **good trader**  \n",
    "- Low-engagement users tend to perform poorly  \n",
    "- These categorical features are **highly predictive** and should strongly influence model performance\n",
    "\n",
    "\"\"\"\"\"\"\"\"\"\n",
    "\n"
   ]
  },
  {
   "cell_type": "code",
   "execution_count": 238,
   "metadata": {},
   "outputs": [],
   "source": [
    "# Feature importance : Mutual Information\n",
    "\n",
    "from sklearn.metrics import mutual_info_score\n",
    "\n"
   ]
  },
  {
   "cell_type": "code",
   "execution_count": 241,
   "metadata": {},
   "outputs": [],
   "source": [
    "def mutual_info_trader_score(series):\n",
    "    return mutual_info_score(series, df_full_train.target_variable)\n"
   ]
  },
  {
   "cell_type": "code",
   "execution_count": 242,
   "metadata": {},
   "outputs": [
    {
     "data": {
      "text/plain": [
       "trader_weekly_frequency_status    0.366017\n",
       "trader_volume_status              0.358240\n",
       "trader_activity_status            0.317445\n",
       "dtype: float64"
      ]
     },
     "execution_count": 242,
     "metadata": {},
     "output_type": "execute_result"
    }
   ],
   "source": [
    "df_full_train[categorical].apply(mutual_info_trader_score).sort_values(ascending=False)"
   ]
  },
  {
   "cell_type": "code",
   "execution_count": null,
   "metadata": {},
   "outputs": [],
   "source": [
    "# Feature correlation \n",
    "# Mutual information : a way to measure importance of categorical features\n",
    "# correlation : a way to measure importance of numerical features\n",
    "\n"
   ]
  },
  {
   "cell_type": "code",
   "execution_count": 243,
   "metadata": {},
   "outputs": [
    {
     "data": {
      "text/plain": [
       "active_weeks     0.538168\n",
       "total_volume     0.060747\n",
       "tx_count_365d    0.049071\n",
       "dtype: float64"
      ]
     },
     "execution_count": 243,
     "metadata": {},
     "output_type": "execute_result"
    }
   ],
   "source": [
    "df_full_train[numerical].corrwith(df_full_train.target_variable)"
   ]
  },
  {
   "cell_type": "code",
   "execution_count": 244,
   "metadata": {},
   "outputs": [],
   "source": [
    "# one-hot encoding\n",
    "# use scikit-learn's to encode categorical variables\n",
    "from sklearn.feature_extraction import DictVectorizer"
   ]
  },
  {
   "cell_type": "code",
   "execution_count": 245,
   "metadata": {},
   "outputs": [],
   "source": [
    "# encode training data as dictionaries\n",
    "train_dicts = (df_train[categorical + numerical].to_dict(orient='records'))\n"
   ]
  },
  {
   "cell_type": "code",
   "execution_count": 247,
   "metadata": {},
   "outputs": [],
   "source": [
    "dv = DictVectorizer(sparse=False)\n"
   ]
  },
  {
   "cell_type": "code",
   "execution_count": 252,
   "metadata": {},
   "outputs": [],
   "source": [
    "x_train = dv.fit_transform(train_dicts)\n"
   ]
  },
  {
   "cell_type": "code",
   "execution_count": null,
   "metadata": {},
   "outputs": [],
   "source": [
    "# validation data\n",
    "\n",
    "val_dicts = df_val[categorical + numerical].to_dict(orient='records')\n",
    "x_val = dv.transform(val_dicts)\n",
    "\n",
    "# Question: why do we fit and transform on training data only?\n",
    "# Fit the DictVectorizer on training data (learn feature mappings) and transform it.\n",
    "# Then, only transform validation data using the same fitted mappings to avoid data leakage.\n",
    "\n"
   ]
  }
 ],
 "metadata": {
  "kernelspec": {
   "display_name": "conda-base",
   "language": "python",
   "name": "conda-base"
  },
  "language_info": {
   "codemirror_mode": {
    "name": "ipython",
    "version": 3
   },
   "file_extension": ".py",
   "mimetype": "text/x-python",
   "name": "python",
   "nbconvert_exporter": "python",
   "pygments_lexer": "ipython3",
   "version": "3.12.7"
  }
 },
 "nbformat": 4,
 "nbformat_minor": 2
}
